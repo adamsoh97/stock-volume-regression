{
 "cells": [
  {
   "cell_type": "markdown",
   "id": "7f2f2ece",
   "metadata": {},
   "source": [
    "# Regression on LT Finance Holdings Ltd Stock Price Dataset"
   ]
  },
  {
   "cell_type": "markdown",
   "id": "4140a1c5",
   "metadata": {},
   "source": [
    "## Import data"
   ]
  },
  {
   "cell_type": "code",
   "execution_count": 1,
   "id": "d46d4dd0",
   "metadata": {},
   "outputs": [
    {
     "data": {
      "text/html": [
       "<div>\n",
       "<style scoped>\n",
       "    .dataframe tbody tr th:only-of-type {\n",
       "        vertical-align: middle;\n",
       "    }\n",
       "\n",
       "    .dataframe tbody tr th {\n",
       "        vertical-align: top;\n",
       "    }\n",
       "\n",
       "    .dataframe thead th {\n",
       "        text-align: right;\n",
       "    }\n",
       "</style>\n",
       "<table border=\"1\" class=\"dataframe\">\n",
       "  <thead>\n",
       "    <tr style=\"text-align: right;\">\n",
       "      <th></th>\n",
       "      <th>Open Price</th>\n",
       "      <th>High Price</th>\n",
       "      <th>Low Price</th>\n",
       "      <th>Close Price</th>\n",
       "      <th>WAP</th>\n",
       "      <th>No.of Shares</th>\n",
       "      <th>No. of Trades</th>\n",
       "      <th>Total Turnover (Rs.)</th>\n",
       "      <th>Deliverable Quantity</th>\n",
       "      <th>% Deli. Qty to Traded Qty</th>\n",
       "      <th>Spread High-Low</th>\n",
       "      <th>Spread Close-Open</th>\n",
       "    </tr>\n",
       "  </thead>\n",
       "  <tbody>\n",
       "    <tr>\n",
       "      <th>0</th>\n",
       "      <td>111.5</td>\n",
       "      <td>114.55</td>\n",
       "      <td>111.45</td>\n",
       "      <td>114.15</td>\n",
       "      <td>113.444247</td>\n",
       "      <td>507614</td>\n",
       "      <td>3232</td>\n",
       "      <td>57585888</td>\n",
       "      <td>153199</td>\n",
       "      <td>30.18</td>\n",
       "      <td>3.10</td>\n",
       "      <td>2.65</td>\n",
       "    </tr>\n",
       "    <tr>\n",
       "      <th>1</th>\n",
       "      <td>109.8</td>\n",
       "      <td>113.45</td>\n",
       "      <td>108.25</td>\n",
       "      <td>111.05</td>\n",
       "      <td>110.885149</td>\n",
       "      <td>582592</td>\n",
       "      <td>5341</td>\n",
       "      <td>64600801</td>\n",
       "      <td>178957</td>\n",
       "      <td>30.72</td>\n",
       "      <td>5.20</td>\n",
       "      <td>1.25</td>\n",
       "    </tr>\n",
       "    <tr>\n",
       "      <th>2</th>\n",
       "      <td>118.6</td>\n",
       "      <td>118.60</td>\n",
       "      <td>108.20</td>\n",
       "      <td>109.80</td>\n",
       "      <td>114.901732</td>\n",
       "      <td>1444455</td>\n",
       "      <td>8277</td>\n",
       "      <td>165970382</td>\n",
       "      <td>832497</td>\n",
       "      <td>57.63</td>\n",
       "      <td>10.40</td>\n",
       "      <td>-8.80</td>\n",
       "    </tr>\n",
       "    <tr>\n",
       "      <th>3</th>\n",
       "      <td>118.0</td>\n",
       "      <td>118.65</td>\n",
       "      <td>114.90</td>\n",
       "      <td>117.15</td>\n",
       "      <td>116.925833</td>\n",
       "      <td>364544</td>\n",
       "      <td>2107</td>\n",
       "      <td>42624611</td>\n",
       "      <td>49561</td>\n",
       "      <td>13.60</td>\n",
       "      <td>3.75</td>\n",
       "      <td>-0.85</td>\n",
       "    </tr>\n",
       "    <tr>\n",
       "      <th>4</th>\n",
       "      <td>120.7</td>\n",
       "      <td>120.70</td>\n",
       "      <td>115.70</td>\n",
       "      <td>117.05</td>\n",
       "      <td>117.717349</td>\n",
       "      <td>1136917</td>\n",
       "      <td>7191</td>\n",
       "      <td>133834855</td>\n",
       "      <td>759176</td>\n",
       "      <td>66.77</td>\n",
       "      <td>5.00</td>\n",
       "      <td>-3.65</td>\n",
       "    </tr>\n",
       "  </tbody>\n",
       "</table>\n",
       "</div>"
      ],
      "text/plain": [
       "   Open Price  High Price  Low Price  Close Price         WAP  No.of Shares  \\\n",
       "0       111.5      114.55     111.45       114.15  113.444247        507614   \n",
       "1       109.8      113.45     108.25       111.05  110.885149        582592   \n",
       "2       118.6      118.60     108.20       109.80  114.901732       1444455   \n",
       "3       118.0      118.65     114.90       117.15  116.925833        364544   \n",
       "4       120.7      120.70     115.70       117.05  117.717349       1136917   \n",
       "\n",
       "   No. of Trades  Total Turnover (Rs.)  Deliverable Quantity  \\\n",
       "0           3232              57585888                153199   \n",
       "1           5341              64600801                178957   \n",
       "2           8277             165970382                832497   \n",
       "3           2107              42624611                 49561   \n",
       "4           7191             133834855                759176   \n",
       "\n",
       "   % Deli. Qty to Traded Qty  Spread High-Low  Spread Close-Open  \n",
       "0                      30.18             3.10               2.65  \n",
       "1                      30.72             5.20               1.25  \n",
       "2                      57.63            10.40              -8.80  \n",
       "3                      13.60             3.75              -0.85  \n",
       "4                      66.77             5.00              -3.65  "
      ]
     },
     "execution_count": 1,
     "metadata": {},
     "output_type": "execute_result"
    }
   ],
   "source": [
    "import pandas as pd\n",
    "import matplotlib.pyplot as plt\n",
    "\n",
    "# Import dataset by reading csv file\n",
    "df = pd.read_csv('LT_Finance_Holdings_Ltd_Stock_Price_2017_to_2020.csv')\n",
    "# Remove 'Date' column from the dataset\n",
    "df = df.drop(columns=['Date'])\n",
    "# Show top 5 rows of the dataset\n",
    "df.head()"
   ]
  },
  {
   "cell_type": "code",
   "execution_count": 2,
   "id": "f667562b",
   "metadata": {
    "scrolled": false
   },
   "outputs": [
    {
     "data": {
      "text/html": [
       "<div>\n",
       "<style scoped>\n",
       "    .dataframe tbody tr th:only-of-type {\n",
       "        vertical-align: middle;\n",
       "    }\n",
       "\n",
       "    .dataframe tbody tr th {\n",
       "        vertical-align: top;\n",
       "    }\n",
       "\n",
       "    .dataframe thead th {\n",
       "        text-align: right;\n",
       "    }\n",
       "</style>\n",
       "<table border=\"1\" class=\"dataframe\">\n",
       "  <thead>\n",
       "    <tr style=\"text-align: right;\">\n",
       "      <th></th>\n",
       "      <th>Open Price</th>\n",
       "      <th>High Price</th>\n",
       "      <th>Low Price</th>\n",
       "      <th>Close Price</th>\n",
       "      <th>WAP</th>\n",
       "      <th>No.of Shares</th>\n",
       "      <th>No. of Trades</th>\n",
       "      <th>Total Turnover (Rs.)</th>\n",
       "      <th>Deliverable Quantity</th>\n",
       "      <th>% Deli. Qty to Traded Qty</th>\n",
       "      <th>Spread High-Low</th>\n",
       "      <th>Spread Close-Open</th>\n",
       "    </tr>\n",
       "  </thead>\n",
       "  <tbody>\n",
       "    <tr>\n",
       "      <th>count</th>\n",
       "      <td>744.000000</td>\n",
       "      <td>744.000000</td>\n",
       "      <td>744.000000</td>\n",
       "      <td>744.000000</td>\n",
       "      <td>744.000000</td>\n",
       "      <td>7.440000e+02</td>\n",
       "      <td>744.000000</td>\n",
       "      <td>7.440000e+02</td>\n",
       "      <td>7.440000e+02</td>\n",
       "      <td>744.000000</td>\n",
       "      <td>744.000000</td>\n",
       "      <td>744.000000</td>\n",
       "    </tr>\n",
       "    <tr>\n",
       "      <th>mean</th>\n",
       "      <td>143.307661</td>\n",
       "      <td>145.615927</td>\n",
       "      <td>140.714516</td>\n",
       "      <td>143.005175</td>\n",
       "      <td>143.180103</td>\n",
       "      <td>7.526360e+05</td>\n",
       "      <td>3924.528226</td>\n",
       "      <td>1.053296e+08</td>\n",
       "      <td>2.042855e+05</td>\n",
       "      <td>26.887648</td>\n",
       "      <td>4.901411</td>\n",
       "      <td>-0.302487</td>\n",
       "    </tr>\n",
       "    <tr>\n",
       "      <th>std</th>\n",
       "      <td>30.167874</td>\n",
       "      <td>30.490160</td>\n",
       "      <td>29.968777</td>\n",
       "      <td>30.166167</td>\n",
       "      <td>30.229996</td>\n",
       "      <td>7.593135e+05</td>\n",
       "      <td>2870.452860</td>\n",
       "      <td>1.179880e+08</td>\n",
       "      <td>3.806967e+05</td>\n",
       "      <td>11.655862</td>\n",
       "      <td>2.598925</td>\n",
       "      <td>3.247310</td>\n",
       "    </tr>\n",
       "    <tr>\n",
       "      <th>min</th>\n",
       "      <td>79.700000</td>\n",
       "      <td>82.100000</td>\n",
       "      <td>78.600000</td>\n",
       "      <td>80.200000</td>\n",
       "      <td>80.284178</td>\n",
       "      <td>9.586600e+04</td>\n",
       "      <td>900.000000</td>\n",
       "      <td>8.593931e+06</td>\n",
       "      <td>2.823400e+04</td>\n",
       "      <td>1.680000</td>\n",
       "      <td>1.250000</td>\n",
       "      <td>-16.250000</td>\n",
       "    </tr>\n",
       "    <tr>\n",
       "      <th>25%</th>\n",
       "      <td>120.875000</td>\n",
       "      <td>122.775000</td>\n",
       "      <td>118.912500</td>\n",
       "      <td>120.700000</td>\n",
       "      <td>120.800636</td>\n",
       "      <td>3.696748e+05</td>\n",
       "      <td>2200.000000</td>\n",
       "      <td>5.173813e+07</td>\n",
       "      <td>9.153000e+04</td>\n",
       "      <td>19.297500</td>\n",
       "      <td>3.200000</td>\n",
       "      <td>-2.050000</td>\n",
       "    </tr>\n",
       "    <tr>\n",
       "      <th>50%</th>\n",
       "      <td>141.450000</td>\n",
       "      <td>143.800000</td>\n",
       "      <td>138.275000</td>\n",
       "      <td>140.850000</td>\n",
       "      <td>140.934889</td>\n",
       "      <td>5.576380e+05</td>\n",
       "      <td>3040.000000</td>\n",
       "      <td>7.777949e+07</td>\n",
       "      <td>1.312950e+05</td>\n",
       "      <td>25.305000</td>\n",
       "      <td>4.300000</td>\n",
       "      <td>-0.375000</td>\n",
       "    </tr>\n",
       "    <tr>\n",
       "      <th>75%</th>\n",
       "      <td>168.000000</td>\n",
       "      <td>170.350000</td>\n",
       "      <td>165.012500</td>\n",
       "      <td>167.712500</td>\n",
       "      <td>167.867431</td>\n",
       "      <td>8.742610e+05</td>\n",
       "      <td>4661.500000</td>\n",
       "      <td>1.172144e+08</td>\n",
       "      <td>1.999035e+05</td>\n",
       "      <td>32.120000</td>\n",
       "      <td>5.950000</td>\n",
       "      <td>1.662500</td>\n",
       "    </tr>\n",
       "    <tr>\n",
       "      <th>max</th>\n",
       "      <td>212.500000</td>\n",
       "      <td>213.600000</td>\n",
       "      <td>208.600000</td>\n",
       "      <td>211.100000</td>\n",
       "      <td>211.239578</td>\n",
       "      <td>1.234311e+07</td>\n",
       "      <td>31813.000000</td>\n",
       "      <td>2.242871e+09</td>\n",
       "      <td>5.713213e+06</td>\n",
       "      <td>94.120000</td>\n",
       "      <td>29.250000</td>\n",
       "      <td>12.750000</td>\n",
       "    </tr>\n",
       "  </tbody>\n",
       "</table>\n",
       "</div>"
      ],
      "text/plain": [
       "       Open Price  High Price   Low Price  Close Price         WAP  \\\n",
       "count  744.000000  744.000000  744.000000   744.000000  744.000000   \n",
       "mean   143.307661  145.615927  140.714516   143.005175  143.180103   \n",
       "std     30.167874   30.490160   29.968777    30.166167   30.229996   \n",
       "min     79.700000   82.100000   78.600000    80.200000   80.284178   \n",
       "25%    120.875000  122.775000  118.912500   120.700000  120.800636   \n",
       "50%    141.450000  143.800000  138.275000   140.850000  140.934889   \n",
       "75%    168.000000  170.350000  165.012500   167.712500  167.867431   \n",
       "max    212.500000  213.600000  208.600000   211.100000  211.239578   \n",
       "\n",
       "       No.of Shares  No. of Trades  Total Turnover (Rs.)  \\\n",
       "count  7.440000e+02     744.000000          7.440000e+02   \n",
       "mean   7.526360e+05    3924.528226          1.053296e+08   \n",
       "std    7.593135e+05    2870.452860          1.179880e+08   \n",
       "min    9.586600e+04     900.000000          8.593931e+06   \n",
       "25%    3.696748e+05    2200.000000          5.173813e+07   \n",
       "50%    5.576380e+05    3040.000000          7.777949e+07   \n",
       "75%    8.742610e+05    4661.500000          1.172144e+08   \n",
       "max    1.234311e+07   31813.000000          2.242871e+09   \n",
       "\n",
       "       Deliverable Quantity  % Deli. Qty to Traded Qty  Spread High-Low  \\\n",
       "count          7.440000e+02                 744.000000       744.000000   \n",
       "mean           2.042855e+05                  26.887648         4.901411   \n",
       "std            3.806967e+05                  11.655862         2.598925   \n",
       "min            2.823400e+04                   1.680000         1.250000   \n",
       "25%            9.153000e+04                  19.297500         3.200000   \n",
       "50%            1.312950e+05                  25.305000         4.300000   \n",
       "75%            1.999035e+05                  32.120000         5.950000   \n",
       "max            5.713213e+06                  94.120000        29.250000   \n",
       "\n",
       "       Spread Close-Open  \n",
       "count         744.000000  \n",
       "mean           -0.302487  \n",
       "std             3.247310  \n",
       "min           -16.250000  \n",
       "25%            -2.050000  \n",
       "50%            -0.375000  \n",
       "75%             1.662500  \n",
       "max            12.750000  "
      ]
     },
     "execution_count": 2,
     "metadata": {},
     "output_type": "execute_result"
    }
   ],
   "source": [
    "# Statistical summary for numerical columns\n",
    "df.describe()"
   ]
  },
  {
   "cell_type": "code",
   "execution_count": 3,
   "id": "b69ce511",
   "metadata": {},
   "outputs": [
    {
     "name": "stdout",
     "output_type": "stream",
     "text": [
      "<class 'pandas.core.frame.DataFrame'>\n",
      "RangeIndex: 744 entries, 0 to 743\n",
      "Data columns (total 12 columns):\n",
      " #   Column                     Non-Null Count  Dtype  \n",
      "---  ------                     --------------  -----  \n",
      " 0   Open Price                 744 non-null    float64\n",
      " 1   High Price                 744 non-null    float64\n",
      " 2   Low Price                  744 non-null    float64\n",
      " 3   Close Price                744 non-null    float64\n",
      " 4   WAP                        744 non-null    float64\n",
      " 5   No.of Shares               744 non-null    int64  \n",
      " 6   No. of Trades              744 non-null    int64  \n",
      " 7   Total Turnover (Rs.)       744 non-null    int64  \n",
      " 8   Deliverable Quantity       744 non-null    int64  \n",
      " 9   % Deli. Qty to Traded Qty  744 non-null    float64\n",
      " 10  Spread High-Low            744 non-null    float64\n",
      " 11  Spread Close-Open          744 non-null    float64\n",
      "dtypes: float64(8), int64(4)\n",
      "memory usage: 69.9 KB\n"
     ]
    }
   ],
   "source": [
    "# Check for index, datatype and memory information of the dataset\n",
    "df.info()"
   ]
  },
  {
   "cell_type": "markdown",
   "id": "1ed0bf2c",
   "metadata": {},
   "source": [
    "As mentioned in the README, empty values were found in the row of 31-Aug-17. From the above information, we can now confirm that there is no empty value across all 744 rows of data after the empty cell is filled."
   ]
  },
  {
   "cell_type": "markdown",
   "id": "4f6aeebc",
   "metadata": {},
   "source": [
    "## Data Pre-Processing"
   ]
  },
  {
   "cell_type": "markdown",
   "id": "5bccd398",
   "metadata": {},
   "source": [
    "After the “Date” column excluded from the dataset, the attribute names are the second item to be pre-processed by eliminating the space and dot symbol, and replacing it with the underscore symbol. This step is to ensure that the name of columns would not affect the code function."
   ]
  },
  {
   "cell_type": "code",
   "execution_count": 4,
   "id": "44ef8b25",
   "metadata": {
    "scrolled": true
   },
   "outputs": [
    {
     "data": {
      "text/html": [
       "<div>\n",
       "<style scoped>\n",
       "    .dataframe tbody tr th:only-of-type {\n",
       "        vertical-align: middle;\n",
       "    }\n",
       "\n",
       "    .dataframe tbody tr th {\n",
       "        vertical-align: top;\n",
       "    }\n",
       "\n",
       "    .dataframe thead th {\n",
       "        text-align: right;\n",
       "    }\n",
       "</style>\n",
       "<table border=\"1\" class=\"dataframe\">\n",
       "  <thead>\n",
       "    <tr style=\"text-align: right;\">\n",
       "      <th></th>\n",
       "      <th>Open_Price</th>\n",
       "      <th>High_Price</th>\n",
       "      <th>Low_Price</th>\n",
       "      <th>Close_Price</th>\n",
       "      <th>WAP</th>\n",
       "      <th>Noof_Shares</th>\n",
       "      <th>No_of_Trades</th>\n",
       "      <th>Total_Turnover_(Rs)</th>\n",
       "      <th>Deliverable_Quantity</th>\n",
       "      <th>%_Deli_Qty_to_Traded_Qty</th>\n",
       "      <th>Spread_High-Low</th>\n",
       "      <th>Spread_Close-Open</th>\n",
       "    </tr>\n",
       "  </thead>\n",
       "  <tbody>\n",
       "    <tr>\n",
       "      <th>0</th>\n",
       "      <td>111.5</td>\n",
       "      <td>114.55</td>\n",
       "      <td>111.45</td>\n",
       "      <td>114.15</td>\n",
       "      <td>113.444247</td>\n",
       "      <td>507614</td>\n",
       "      <td>3232</td>\n",
       "      <td>57585888</td>\n",
       "      <td>153199</td>\n",
       "      <td>30.18</td>\n",
       "      <td>3.10</td>\n",
       "      <td>2.65</td>\n",
       "    </tr>\n",
       "    <tr>\n",
       "      <th>1</th>\n",
       "      <td>109.8</td>\n",
       "      <td>113.45</td>\n",
       "      <td>108.25</td>\n",
       "      <td>111.05</td>\n",
       "      <td>110.885149</td>\n",
       "      <td>582592</td>\n",
       "      <td>5341</td>\n",
       "      <td>64600801</td>\n",
       "      <td>178957</td>\n",
       "      <td>30.72</td>\n",
       "      <td>5.20</td>\n",
       "      <td>1.25</td>\n",
       "    </tr>\n",
       "    <tr>\n",
       "      <th>2</th>\n",
       "      <td>118.6</td>\n",
       "      <td>118.60</td>\n",
       "      <td>108.20</td>\n",
       "      <td>109.80</td>\n",
       "      <td>114.901732</td>\n",
       "      <td>1444455</td>\n",
       "      <td>8277</td>\n",
       "      <td>165970382</td>\n",
       "      <td>832497</td>\n",
       "      <td>57.63</td>\n",
       "      <td>10.40</td>\n",
       "      <td>-8.80</td>\n",
       "    </tr>\n",
       "    <tr>\n",
       "      <th>3</th>\n",
       "      <td>118.0</td>\n",
       "      <td>118.65</td>\n",
       "      <td>114.90</td>\n",
       "      <td>117.15</td>\n",
       "      <td>116.925833</td>\n",
       "      <td>364544</td>\n",
       "      <td>2107</td>\n",
       "      <td>42624611</td>\n",
       "      <td>49561</td>\n",
       "      <td>13.60</td>\n",
       "      <td>3.75</td>\n",
       "      <td>-0.85</td>\n",
       "    </tr>\n",
       "    <tr>\n",
       "      <th>4</th>\n",
       "      <td>120.7</td>\n",
       "      <td>120.70</td>\n",
       "      <td>115.70</td>\n",
       "      <td>117.05</td>\n",
       "      <td>117.717349</td>\n",
       "      <td>1136917</td>\n",
       "      <td>7191</td>\n",
       "      <td>133834855</td>\n",
       "      <td>759176</td>\n",
       "      <td>66.77</td>\n",
       "      <td>5.00</td>\n",
       "      <td>-3.65</td>\n",
       "    </tr>\n",
       "  </tbody>\n",
       "</table>\n",
       "</div>"
      ],
      "text/plain": [
       "   Open_Price  High_Price  Low_Price  Close_Price         WAP  Noof_Shares  \\\n",
       "0       111.5      114.55     111.45       114.15  113.444247       507614   \n",
       "1       109.8      113.45     108.25       111.05  110.885149       582592   \n",
       "2       118.6      118.60     108.20       109.80  114.901732      1444455   \n",
       "3       118.0      118.65     114.90       117.15  116.925833       364544   \n",
       "4       120.7      120.70     115.70       117.05  117.717349      1136917   \n",
       "\n",
       "   No_of_Trades  Total_Turnover_(Rs)  Deliverable_Quantity  \\\n",
       "0          3232             57585888                153199   \n",
       "1          5341             64600801                178957   \n",
       "2          8277            165970382                832497   \n",
       "3          2107             42624611                 49561   \n",
       "4          7191            133834855                759176   \n",
       "\n",
       "   %_Deli_Qty_to_Traded_Qty  Spread_High-Low  Spread_Close-Open  \n",
       "0                     30.18             3.10               2.65  \n",
       "1                     30.72             5.20               1.25  \n",
       "2                     57.63            10.40              -8.80  \n",
       "3                     13.60             3.75              -0.85  \n",
       "4                     66.77             5.00              -3.65  "
      ]
     },
     "execution_count": 4,
     "metadata": {},
     "output_type": "execute_result"
    }
   ],
   "source": [
    "# Remove warning messages\n",
    "import warnings\n",
    "warnings.filterwarnings('ignore')\n",
    "\n",
    "# Remove space and dot from column name\n",
    "df.columns = df.columns.str.replace(' ', '_')\n",
    "df.columns = df.columns.str.replace('.', '')\n",
    "df.head()"
   ]
  },
  {
   "cell_type": "code",
   "execution_count": 5,
   "id": "690b56be",
   "metadata": {},
   "outputs": [
    {
     "data": {
      "image/png": "[encoded data removed]",
      "text/plain": [
       "<Figure size 576x432 with 1 Axes>"
      ]
     },
     "metadata": {
      "needs_background": "light"
     },
     "output_type": "display_data"
    }
   ],
   "source": [
    "# Scatter plot of Number of Shares vs Close Price\n",
    "plt.figure(figsize=(8,6))\n",
    "plt.xlabel('Close Price')\n",
    "plt.ylabel('Nunber of Shares')\n",
    "plt.scatter(df.Close_Price, df.Noof_Shares, color='red', marker = '+')\n",
    "plt.show()"
   ]
  },
  {
   "cell_type": "markdown",
   "id": "3d59ffd4",
   "metadata": {},
   "source": [
    "A scatter plot of close price versus the number of shares is plotted as shown in the figure above. It is shown that the number of shares mostly spread within the range of 0 to 2,000,000 across all close price ranges. There is no clear sign of relationship between number of shares and close price."
   ]
  },
  {
   "cell_type": "code",
   "execution_count": 6,
   "id": "5208143c",
   "metadata": {},
   "outputs": [],
   "source": [
    "# Train-test set split for complete dataset\n",
    "from sklearn.model_selection import train_test_split as tts\n",
    "\n",
    "features = df.drop(['Noof_Shares'],axis=1)\n",
    "target = df['Noof_Shares']\n",
    "\n",
    "x_train, x_test, y_train, y_test = tts(features, target, test_size = 0.2, random_state=0)"
   ]
  },
  {
   "cell_type": "markdown",
   "id": "c97f57eb",
   "metadata": {},
   "source": [
    "Now the data is split into train and test sets with “No. of Shares” as the target column. The test set is set at 20% of the dataset and a random state number is set so that the split is reproducible."
   ]
  },
  {
   "cell_type": "code",
   "execution_count": 7,
   "id": "0c25978e",
   "metadata": {},
   "outputs": [
    {
     "data": {
      "text/html": [
       "<div>\n",
       "<style scoped>\n",
       "    .dataframe tbody tr th:only-of-type {\n",
       "        vertical-align: middle;\n",
       "    }\n",
       "\n",
       "    .dataframe tbody tr th {\n",
       "        vertical-align: top;\n",
       "    }\n",
       "\n",
       "    .dataframe thead th {\n",
       "        text-align: right;\n",
       "    }\n",
       "</style>\n",
       "<table border=\"1\" class=\"dataframe\">\n",
       "  <thead>\n",
       "    <tr style=\"text-align: right;\">\n",
       "      <th></th>\n",
       "      <th>Open_Price</th>\n",
       "      <th>High_Price</th>\n",
       "      <th>Low_Price</th>\n",
       "      <th>Close_Price</th>\n",
       "      <th>WAP</th>\n",
       "      <th>No_of_Trades</th>\n",
       "      <th>Total_Turnover_(Rs)</th>\n",
       "      <th>Deliverable_Quantity</th>\n",
       "      <th>%_Deli_Qty_to_Traded_Qty</th>\n",
       "      <th>Spread_High-Low</th>\n",
       "      <th>Spread_Close-Open</th>\n",
       "      <th>Noof_Shares</th>\n",
       "    </tr>\n",
       "  </thead>\n",
       "  <tbody>\n",
       "    <tr>\n",
       "      <th>Open_Price</th>\n",
       "      <td>1.000000</td>\n",
       "      <td>0.997463</td>\n",
       "      <td>0.996844</td>\n",
       "      <td>0.994104</td>\n",
       "      <td>0.996770</td>\n",
       "      <td>-0.020045</td>\n",
       "      <td>0.125210</td>\n",
       "      <td>-0.005126</td>\n",
       "      <td>0.196898</td>\n",
       "      <td>0.237336</td>\n",
       "      <td>-0.040228</td>\n",
       "      <td>-0.088260</td>\n",
       "    </tr>\n",
       "    <tr>\n",
       "      <th>High_Price</th>\n",
       "      <td>0.997463</td>\n",
       "      <td>1.000000</td>\n",
       "      <td>0.996961</td>\n",
       "      <td>0.997737</td>\n",
       "      <td>0.998974</td>\n",
       "      <td>0.005413</td>\n",
       "      <td>0.140191</td>\n",
       "      <td>0.001195</td>\n",
       "      <td>0.189358</td>\n",
       "      <td>0.267856</td>\n",
       "      <td>0.016591</td>\n",
       "      <td>-0.071438</td>\n",
       "    </tr>\n",
       "    <tr>\n",
       "      <th>Low_Price</th>\n",
       "      <td>0.996844</td>\n",
       "      <td>0.996961</td>\n",
       "      <td>1.000000</td>\n",
       "      <td>0.997897</td>\n",
       "      <td>0.999055</td>\n",
       "      <td>-0.043647</td>\n",
       "      <td>0.113101</td>\n",
       "      <td>-0.010848</td>\n",
       "      <td>0.200198</td>\n",
       "      <td>0.191983</td>\n",
       "      <td>0.023754</td>\n",
       "      <td>-0.101944</td>\n",
       "    </tr>\n",
       "    <tr>\n",
       "      <th>Close_Price</th>\n",
       "      <td>0.994104</td>\n",
       "      <td>0.997737</td>\n",
       "      <td>0.997897</td>\n",
       "      <td>1.000000</td>\n",
       "      <td>0.999083</td>\n",
       "      <td>-0.017162</td>\n",
       "      <td>0.127338</td>\n",
       "      <td>-0.004986</td>\n",
       "      <td>0.191351</td>\n",
       "      <td>0.227775</td>\n",
       "      <td>0.068348</td>\n",
       "      <td>-0.085570</td>\n",
       "    </tr>\n",
       "    <tr>\n",
       "      <th>WAP</th>\n",
       "      <td>0.996770</td>\n",
       "      <td>0.998974</td>\n",
       "      <td>0.999055</td>\n",
       "      <td>0.999083</td>\n",
       "      <td>1.000000</td>\n",
       "      <td>-0.017804</td>\n",
       "      <td>0.127515</td>\n",
       "      <td>-0.005220</td>\n",
       "      <td>0.194193</td>\n",
       "      <td>0.229029</td>\n",
       "      <td>0.035365</td>\n",
       "      <td>-0.086070</td>\n",
       "    </tr>\n",
       "    <tr>\n",
       "      <th>No_of_Trades</th>\n",
       "      <td>-0.020045</td>\n",
       "      <td>0.005413</td>\n",
       "      <td>-0.043647</td>\n",
       "      <td>-0.017162</td>\n",
       "      <td>-0.017804</td>\n",
       "      <td>1.000000</td>\n",
       "      <td>0.741946</td>\n",
       "      <td>0.342541</td>\n",
       "      <td>-0.149457</td>\n",
       "      <td>0.607974</td>\n",
       "      <td>0.026286</td>\n",
       "      <td>0.761252</td>\n",
       "    </tr>\n",
       "    <tr>\n",
       "      <th>Total_Turnover_(Rs)</th>\n",
       "      <td>0.125210</td>\n",
       "      <td>0.140191</td>\n",
       "      <td>0.113101</td>\n",
       "      <td>0.127338</td>\n",
       "      <td>0.127515</td>\n",
       "      <td>0.741946</td>\n",
       "      <td>1.000000</td>\n",
       "      <td>0.660269</td>\n",
       "      <td>0.035635</td>\n",
       "      <td>0.367302</td>\n",
       "      <td>0.021374</td>\n",
       "      <td>0.960505</td>\n",
       "    </tr>\n",
       "    <tr>\n",
       "      <th>Deliverable_Quantity</th>\n",
       "      <td>-0.005126</td>\n",
       "      <td>0.001195</td>\n",
       "      <td>-0.010848</td>\n",
       "      <td>-0.004986</td>\n",
       "      <td>-0.005220</td>\n",
       "      <td>0.342541</td>\n",
       "      <td>0.660269</td>\n",
       "      <td>1.000000</td>\n",
       "      <td>0.486576</td>\n",
       "      <td>0.149204</td>\n",
       "      <td>0.001211</td>\n",
       "      <td>0.706131</td>\n",
       "    </tr>\n",
       "    <tr>\n",
       "      <th>%_Deli_Qty_to_Traded_Qty</th>\n",
       "      <td>0.196898</td>\n",
       "      <td>0.189358</td>\n",
       "      <td>0.200198</td>\n",
       "      <td>0.191351</td>\n",
       "      <td>0.194193</td>\n",
       "      <td>-0.149457</td>\n",
       "      <td>0.035635</td>\n",
       "      <td>0.486576</td>\n",
       "      <td>1.000000</td>\n",
       "      <td>-0.090456</td>\n",
       "      <td>-0.048343</td>\n",
       "      <td>0.002333</td>\n",
       "    </tr>\n",
       "    <tr>\n",
       "      <th>Spread_High-Low</th>\n",
       "      <td>0.237336</td>\n",
       "      <td>0.267856</td>\n",
       "      <td>0.191983</td>\n",
       "      <td>0.227775</td>\n",
       "      <td>0.229029</td>\n",
       "      <td>0.607974</td>\n",
       "      <td>0.367302</td>\n",
       "      <td>0.149204</td>\n",
       "      <td>-0.090456</td>\n",
       "      <td>1.000000</td>\n",
       "      <td>-0.084761</td>\n",
       "      <td>0.360813</td>\n",
       "    </tr>\n",
       "    <tr>\n",
       "      <th>Spread_Close-Open</th>\n",
       "      <td>-0.040228</td>\n",
       "      <td>0.016591</td>\n",
       "      <td>0.023754</td>\n",
       "      <td>0.068348</td>\n",
       "      <td>0.035365</td>\n",
       "      <td>0.026286</td>\n",
       "      <td>0.021374</td>\n",
       "      <td>0.001211</td>\n",
       "      <td>-0.048343</td>\n",
       "      <td>-0.084761</td>\n",
       "      <td>1.000000</td>\n",
       "      <td>0.023545</td>\n",
       "    </tr>\n",
       "    <tr>\n",
       "      <th>Noof_Shares</th>\n",
       "      <td>-0.088260</td>\n",
       "      <td>-0.071438</td>\n",
       "      <td>-0.101944</td>\n",
       "      <td>-0.085570</td>\n",
       "      <td>-0.086070</td>\n",
       "      <td>0.761252</td>\n",
       "      <td>0.960505</td>\n",
       "      <td>0.706131</td>\n",
       "      <td>0.002333</td>\n",
       "      <td>0.360813</td>\n",
       "      <td>0.023545</td>\n",
       "      <td>1.000000</td>\n",
       "    </tr>\n",
       "  </tbody>\n",
       "</table>\n",
       "</div>"
      ],
      "text/plain": [
       "                          Open_Price  High_Price  Low_Price  Close_Price  \\\n",
       "Open_Price                  1.000000    0.997463   0.996844     0.994104   \n",
       "High_Price                  0.997463    1.000000   0.996961     0.997737   \n",
       "Low_Price                   0.996844    0.996961   1.000000     0.997897   \n",
       "Close_Price                 0.994104    0.997737   0.997897     1.000000   \n",
       "WAP                         0.996770    0.998974   0.999055     0.999083   \n",
       "No_of_Trades               -0.020045    0.005413  -0.043647    -0.017162   \n",
       "Total_Turnover_(Rs)         0.125210    0.140191   0.113101     0.127338   \n",
       "Deliverable_Quantity       -0.005126    0.001195  -0.010848    -0.004986   \n",
       "%_Deli_Qty_to_Traded_Qty    0.196898    0.189358   0.200198     0.191351   \n",
       "Spread_High-Low             0.237336    0.267856   0.191983     0.227775   \n",
       "Spread_Close-Open          -0.040228    0.016591   0.023754     0.068348   \n",
       "Noof_Shares                -0.088260   -0.071438  -0.101944    -0.085570   \n",
       "\n",
       "                               WAP  No_of_Trades  Total_Turnover_(Rs)  \\\n",
       "Open_Price                0.996770     -0.020045             0.125210   \n",
       "High_Price                0.998974      0.005413             0.140191   \n",
       "Low_Price                 0.999055     -0.043647             0.113101   \n",
       "Close_Price               0.999083     -0.017162             0.127338   \n",
       "WAP                       1.000000     -0.017804             0.127515   \n",
       "No_of_Trades             -0.017804      1.000000             0.741946   \n",
       "Total_Turnover_(Rs)       0.127515      0.741946             1.000000   \n",
       "Deliverable_Quantity     -0.005220      0.342541             0.660269   \n",
       "%_Deli_Qty_to_Traded_Qty  0.194193     -0.149457             0.035635   \n",
       "Spread_High-Low           0.229029      0.607974             0.367302   \n",
       "Spread_Close-Open         0.035365      0.026286             0.021374   \n",
       "Noof_Shares              -0.086070      0.761252             0.960505   \n",
       "\n",
       "                          Deliverable_Quantity  %_Deli_Qty_to_Traded_Qty  \\\n",
       "Open_Price                           -0.005126                  0.196898   \n",
       "High_Price                            0.001195                  0.189358   \n",
       "Low_Price                            -0.010848                  0.200198   \n",
       "Close_Price                          -0.004986                  0.191351   \n",
       "WAP                                  -0.005220                  0.194193   \n",
       "No_of_Trades                          0.342541                 -0.149457   \n",
       "Total_Turnover_(Rs)                   0.660269                  0.035635   \n",
       "Deliverable_Quantity                  1.000000                  0.486576   \n",
       "%_Deli_Qty_to_Traded_Qty              0.486576                  1.000000   \n",
       "Spread_High-Low                       0.149204                 -0.090456   \n",
       "Spread_Close-Open                     0.001211                 -0.048343   \n",
       "Noof_Shares                           0.706131                  0.002333   \n",
       "\n",
       "                          Spread_High-Low  Spread_Close-Open  Noof_Shares  \n",
       "Open_Price                       0.237336          -0.040228    -0.088260  \n",
       "High_Price                       0.267856           0.016591    -0.071438  \n",
       "Low_Price                        0.191983           0.023754    -0.101944  \n",
       "Close_Price                      0.227775           0.068348    -0.085570  \n",
       "WAP                              0.229029           0.035365    -0.086070  \n",
       "No_of_Trades                     0.607974           0.026286     0.761252  \n",
       "Total_Turnover_(Rs)              0.367302           0.021374     0.960505  \n",
       "Deliverable_Quantity             0.149204           0.001211     0.706131  \n",
       "%_Deli_Qty_to_Traded_Qty        -0.090456          -0.048343     0.002333  \n",
       "Spread_High-Low                  1.000000          -0.084761     0.360813  \n",
       "Spread_Close-Open               -0.084761           1.000000     0.023545  \n",
       "Noof_Shares                      0.360813           0.023545     1.000000  "
      ]
     },
     "execution_count": 7,
     "metadata": {},
     "output_type": "execute_result"
    }
   ],
   "source": [
    "# Correlation coefficient\n",
    "x = pd.concat([x_train,y_train], axis = 1)\n",
    "cor = x.corr()\n",
    "cor"
   ]
  },
  {
   "cell_type": "code",
   "execution_count": 8,
   "id": "3faf6a18",
   "metadata": {},
   "outputs": [
    {
     "data": {
      "text/plain": [
       "<AxesSubplot:>"
      ]
     },
     "execution_count": 8,
     "metadata": {},
     "output_type": "execute_result"
    },
    {
     "data": {
      "image/png": "[encoded data removed]",
      "text/plain": [
       "<Figure size 864x720 with 2 Axes>"
      ]
     },
     "metadata": {
      "needs_background": "light"
     },
     "output_type": "display_data"
    }
   ],
   "source": [
    "# Correlation coefficient heatmap\n",
    "import seaborn as sns\n",
    "\n",
    "plt.figure(figsize=(12,10))\n",
    "sns.heatmap(cor, vmin=-1, vmax=1, center=0,\n",
    "           cmap = sns.diverging_palette(20, 220, n=200),\n",
    "           square=True,\n",
    "           annot=True)"
   ]
  },
  {
   "cell_type": "markdown",
   "id": "7213b30d",
   "metadata": {},
   "source": [
    "Before proceeding to data modelling, we would like to know which attributes have a high correlation with the target – Number of Shares. The correlation coefficient is done on the train set and it is found that “Number of Trades”, “Total Turnover (Rs.)”, and “Deliverable Quantity” have a high positive correlation with the target as shown in the heatmap."
   ]
  },
  {
   "cell_type": "code",
   "execution_count": 9,
   "id": "ba0c7002",
   "metadata": {},
   "outputs": [],
   "source": [
    "# Train-test split on high correlation attributes\n",
    "features2 = df[['No_of_Trades','Total_Turnover_(Rs)','Deliverable_Quantity']]\n",
    "target2 = df['Noof_Shares']\n",
    "\n",
    "x2_train, x2_test, y2_train, y2_test = tts(features2, target2, test_size = 0.2, random_state = 0)"
   ]
  },
  {
   "cell_type": "markdown",
   "id": "6c88dd65",
   "metadata": {},
   "source": [
    "Another data split is done only with the mentioned attributes to compare the performance of modelling with the complete dataset."
   ]
  },
  {
   "cell_type": "markdown",
   "id": "d2388d25",
   "metadata": {},
   "source": [
    "## Model Training"
   ]
  },
  {
   "cell_type": "markdown",
   "id": "48cb47d9",
   "metadata": {},
   "source": [
    "2 types of modelling shall be done on the dataset, namely linear and non-linear modelling. LinearRegressor is used for the linear modelling while KNeighborsRegressor is used for the non-linear modelling. The performance of the model is determined using MAE, MSE, RMSE and R-Squared. A density plot shall be produced to check if the predicted value follows the actual value distribution.\n",
    "\n",
    "A similar process goes to non-linear modelling with a little tweak on parameter tuning. CVGridSearch is applied to search for the best parameter set for non-linear model training. Value of k, distance type, and weights are the parameters pending to be tuned."
   ]
  },
  {
   "cell_type": "markdown",
   "id": "0e1cfea9",
   "metadata": {},
   "source": [
    "### (1) Full Dataset"
   ]
  },
  {
   "cell_type": "markdown",
   "id": "d96573b5",
   "metadata": {},
   "source": [
    "#### Linear Model"
   ]
  },
  {
   "cell_type": "code",
   "execution_count": 10,
   "id": "de60420f",
   "metadata": {},
   "outputs": [],
   "source": [
    "# Linear model\n",
    "from sklearn import linear_model\n",
    "\n",
    "reg = linear_model.LinearRegression()\n",
    "reg.fit(x_train, y_train)\n",
    "reg_pred = reg.predict(x_test)"
   ]
  },
  {
   "cell_type": "code",
   "execution_count": 11,
   "id": "39760e67",
   "metadata": {},
   "outputs": [
    {
     "name": "stdout",
     "output_type": "stream",
     "text": [
      "MAE: 67528.18087809508\n",
      "MSE: 8025827941.413602\n",
      "RMSE: 89586.98533500054\n",
      "R-Squared: 0.9789727235102781\n"
     ]
    }
   ],
   "source": [
    "# Evaluation metrics for performance evaluation\n",
    "import sklearn.metrics as metrics\n",
    "import numpy as np\n",
    "\n",
    "mae = metrics.mean_absolute_error(y_test, reg_pred)\n",
    "mse = metrics.mean_squared_error(y_test, reg_pred)\n",
    "rmse = metrics.mean_squared_error(y_test, reg_pred, squared = False)\n",
    "r2 = metrics.r2_score(y_test, reg_pred)\n",
    "\n",
    "print(\"MAE:\", mae)\n",
    "print(\"MSE:\", mse)\n",
    "print(\"RMSE:\", rmse)\n",
    "print(\"R-Squared:\", r2)"
   ]
  },
  {
   "cell_type": "code",
   "execution_count": 12,
   "id": "ddb7976b",
   "metadata": {},
   "outputs": [
    {
     "data": {
      "image/png": "[encoded data removed]",
      "text/plain": [
       "<Figure size 432x288 with 1 Axes>"
      ]
     },
     "metadata": {
      "needs_background": "light"
     },
     "output_type": "display_data"
    }
   ],
   "source": [
    "%matplotlib inline\n",
    "# Remove warning messages\n",
    "warnings.filterwarnings('ignore')\n",
    "# Model fitting plot\n",
    "ax1 = sns.distplot(y_test, hist=False, color='r', label = 'Actual Value')\n",
    "sns.distplot(reg_pred, hist=False, color='b', label = 'Fitted Value', ax=ax1)\n",
    "ax1.ticklabel_format(style='plain')\n",
    "plt.legend(loc='best')\n",
    "plt.show()"
   ]
  },
  {
   "cell_type": "markdown",
   "id": "c706739b",
   "metadata": {},
   "source": [
    "#### Non-Linear Model"
   ]
  },
  {
   "cell_type": "code",
   "execution_count": 13,
   "id": "f8b9f4e0",
   "metadata": {},
   "outputs": [
    {
     "name": "stdout",
     "output_type": "stream",
     "text": [
      "{'n_neighbors': 3, 'p': 1, 'weights': 'distance'}\n"
     ]
    }
   ],
   "source": [
    "# Searching for the best parameter set\n",
    "from sklearn.neighbors import KNeighborsRegressor\n",
    "from sklearn.model_selection import GridSearchCV as gsc\n",
    "\n",
    "param_grid = {'n_neighbors':[1,3,5,7,9,11], \n",
    "              'p':[1,2],\n",
    "              'weights':['uniform','distance']}\n",
    "\n",
    "knn = KNeighborsRegressor()\n",
    "\n",
    "grid_search = gsc(knn, param_grid, cv=10)\n",
    "grid_result = grid_search.fit(x_train, y_train)\n",
    "print(grid_result.best_params_)"
   ]
  },
  {
   "cell_type": "code",
   "execution_count": 14,
   "id": "9f4758a5",
   "metadata": {},
   "outputs": [],
   "source": [
    "# Running model on the best parameters\n",
    "best = KNeighborsRegressor(n_neighbors = 3, p = 1, weights = 'distance')\n",
    "best.fit(x_train, y_train)\n",
    "best_pred = best.predict(x_test)"
   ]
  },
  {
   "cell_type": "code",
   "execution_count": 15,
   "id": "57b54c6e",
   "metadata": {},
   "outputs": [
    {
     "name": "stdout",
     "output_type": "stream",
     "text": [
      "MAE: 143566.60564954628\n",
      "MSE: 41168019771.44903\n",
      "RMSE: 202899.0383699465\n",
      "R-Squared: 0.8921418026167991\n"
     ]
    }
   ],
   "source": [
    "# Evaluation metrics for performance evaluation\n",
    "mae = metrics.mean_absolute_error(y_test, best_pred)\n",
    "mse = metrics.mean_squared_error(y_test, best_pred)\n",
    "rmse = metrics.mean_squared_error(y_test, best_pred, squared = False)\n",
    "r2 = metrics.r2_score(y_test, best_pred)\n",
    "\n",
    "print(\"MAE:\", mae)\n",
    "print(\"MSE:\", mse)\n",
    "print(\"RMSE:\", rmse)\n",
    "print(\"R-Squared:\", r2)"
   ]
  },
  {
   "cell_type": "code",
   "execution_count": 16,
   "id": "d7ee5c7e",
   "metadata": {},
   "outputs": [
    {
     "data": {
      "image/png": "[encoded data removed]",
      "text/plain": [
       "<Figure size 432x288 with 1 Axes>"
      ]
     },
     "metadata": {
      "needs_background": "light"
     },
     "output_type": "display_data"
    }
   ],
   "source": [
    "%matplotlib inline\n",
    "# Remove warning messages\n",
    "warnings.filterwarnings('ignore')\n",
    "# Model fitting plot\n",
    "ax1 = sns.distplot(y_test, hist=False, color='r', label = 'Actual Value')\n",
    "sns.distplot(best_pred, hist=False, color='b', label = 'Fitted Value', ax=ax1)\n",
    "ax1.ticklabel_format(style='plain')\n",
    "plt.legend(loc='best')\n",
    "plt.show()"
   ]
  },
  {
   "cell_type": "markdown",
   "id": "f6c3b1ea",
   "metadata": {},
   "source": [
    "### (2) High Correlation Attributes"
   ]
  },
  {
   "cell_type": "markdown",
   "id": "b93bcfef",
   "metadata": {},
   "source": [
    "#### Linear Model"
   ]
  },
  {
   "cell_type": "code",
   "execution_count": 17,
   "id": "8e27db55",
   "metadata": {},
   "outputs": [],
   "source": [
    "# Linear model\n",
    "reg2 = linear_model.LinearRegression()\n",
    "reg2.fit(x2_train, y2_train)\n",
    "reg2_pred = reg2.predict(x2_test)"
   ]
  },
  {
   "cell_type": "code",
   "execution_count": 18,
   "id": "ffa7c757",
   "metadata": {},
   "outputs": [
    {
     "name": "stdout",
     "output_type": "stream",
     "text": [
      "MAE: 113217.8220161115\n",
      "MSE: 23027993061.17268\n",
      "RMSE: 151749.7712063273\n",
      "R-Squared: 0.939667784976787\n"
     ]
    }
   ],
   "source": [
    "# Evaluation metrics for performance evaluation\n",
    "mae = metrics.mean_absolute_error(y2_test, reg2_pred)\n",
    "mse = metrics.mean_squared_error(y2_test, reg2_pred)\n",
    "rmse = metrics.mean_squared_error(y2_test, reg2_pred, squared = False)\n",
    "r2 = metrics.r2_score(y2_test, reg2_pred)\n",
    "\n",
    "print(\"MAE:\", mae)\n",
    "print(\"MSE:\", mse)\n",
    "print(\"RMSE:\", rmse)\n",
    "print(\"R-Squared:\", r2)"
   ]
  },
  {
   "cell_type": "code",
   "execution_count": 19,
   "id": "8d6e1885",
   "metadata": {},
   "outputs": [
    {
     "data": {
      "image/png": "[encoded data removed]",
      "text/plain": [
       "<Figure size 432x288 with 1 Axes>"
      ]
     },
     "metadata": {
      "needs_background": "light"
     },
     "output_type": "display_data"
    }
   ],
   "source": [
    "%matplotlib inline\n",
    "# Remove warning messages\n",
    "warnings.filterwarnings('ignore')\n",
    "# Model fitting plot\n",
    "ax1 = sns.distplot(y2_test, hist=False, color='r', label = 'Actual Value')\n",
    "sns.distplot(reg2_pred, hist=False, color='b', label = 'Fitted Value', ax=ax1)\n",
    "ax1.ticklabel_format(style='plain')\n",
    "plt.legend(loc='best')\n",
    "plt.show()"
   ]
  },
  {
   "cell_type": "markdown",
   "id": "ae2232ec",
   "metadata": {},
   "source": [
    "#### Non-Linear Model"
   ]
  },
  {
   "cell_type": "code",
   "execution_count": 20,
   "id": "6cca4a9d",
   "metadata": {},
   "outputs": [
    {
     "name": "stdout",
     "output_type": "stream",
     "text": [
      "{'n_neighbors': 3, 'p': 1, 'weights': 'distance'}\n"
     ]
    }
   ],
   "source": [
    "# Searching for the best parameter set\n",
    "param_grid = {'n_neighbors':[1,3,5,7,9,11], \n",
    "              'p':[1,2],\n",
    "              'weights':['uniform','distance']}\n",
    "\n",
    "knn = KNeighborsRegressor()\n",
    "\n",
    "grid_search2 = gsc(knn, param_grid, cv=10)\n",
    "grid_result2 = grid_search2.fit(x2_train, y2_train)\n",
    "print(grid_result2.best_params_)"
   ]
  },
  {
   "cell_type": "code",
   "execution_count": 21,
   "id": "590e5088",
   "metadata": {},
   "outputs": [],
   "source": [
    "# Running model on the best parameters\n",
    "best2 = KNeighborsRegressor(n_neighbors = 3, p = 1, weights = 'distance')\n",
    "best2.fit(x2_train, y2_train)\n",
    "best2_pred = best2.predict(x2_test)"
   ]
  },
  {
   "cell_type": "code",
   "execution_count": 22,
   "id": "e498b9d4",
   "metadata": {},
   "outputs": [
    {
     "name": "stdout",
     "output_type": "stream",
     "text": [
      "MAE: 143608.13520772525\n",
      "MSE: 41185510022.3541\n",
      "RMSE: 202942.13466491897\n",
      "R-Squared: 0.8920959790152542\n"
     ]
    }
   ],
   "source": [
    "# Evaluation metrics for performance evaluation\n",
    "mae = metrics.mean_absolute_error(y2_test, best2_pred)\n",
    "mse = metrics.mean_squared_error(y2_test, best2_pred)\n",
    "rmse = metrics.mean_squared_error(y2_test, best2_pred, squared = False)\n",
    "r2 = metrics.r2_score(y2_test, best2_pred)\n",
    "\n",
    "print(\"MAE:\", mae)\n",
    "print(\"MSE:\", mse)\n",
    "print(\"RMSE:\", rmse)\n",
    "print(\"R-Squared:\", r2)"
   ]
  },
  {
   "cell_type": "code",
   "execution_count": 23,
   "id": "1c44b81b",
   "metadata": {},
   "outputs": [
    {
     "data": {
      "image/png": "[encoded data removed]",
      "text/plain": [
       "<Figure size 432x288 with 1 Axes>"
      ]
     },
     "metadata": {
      "needs_background": "light"
     },
     "output_type": "display_data"
    }
   ],
   "source": [
    "%matplotlib inline\n",
    "# Remove warning messages\n",
    "warnings.filterwarnings('ignore')\n",
    "# Model fitting plot\n",
    "ax1 = sns.distplot(y2_test, hist=False, color='r', label = 'Actual Value')\n",
    "sns.distplot(best2_pred, hist=False, color='b', label = 'Fitted Value', ax=ax1)\n",
    "ax1.ticklabel_format(style='plain')\n",
    "plt.legend(loc='best')\n",
    "plt.show()"
   ]
  },
  {
   "cell_type": "code",
   "execution_count": null,
   "id": "4b2ca0fb",
   "metadata": {},
   "outputs": [],
   "source": []
  }
 ],
 "metadata": {
  "kernelspec": {
   "display_name": "Python 3 (ipykernel)",
   "language": "python",
   "name": "python3"
  },
  "language_info": {
   "codemirror_mode": {
    "name": "ipython",
    "version": 3
   },
   "file_extension": ".py",
   "mimetype": "text/x-python",
   "name": "python",
   "nbconvert_exporter": "python",
   "pygments_lexer": "ipython3",
   "version": "3.9.7"
  }
 },
 "nbformat": 4,
 "nbformat_minor": 5
}
